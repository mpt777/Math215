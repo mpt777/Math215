{
  "nbformat": 4,
  "nbformat_minor": 0,
  "metadata": {
    "colab": {
      "name": "Copy of Least_squares_II.ipynb",
      "provenance": [],
      "collapsed_sections": [],
      "include_colab_link": true
    },
    "kernelspec": {
      "name": "python3",
      "display_name": "Python 3"
    }
  },
  "cells": [
    {
      "cell_type": "markdown",
      "metadata": {
        "id": "view-in-github",
        "colab_type": "text"
      },
      "source": [
        "<a href=\"https://colab.research.google.com/github/mpt777/Math215/blob/main/Lab7_Least_squares_II.ipynb\" target=\"_parent\"><img src=\"https://colab.research.google.com/assets/colab-badge.svg\" alt=\"Open In Colab\"/></a>"
      ]
    },
    {
      "cell_type": "markdown",
      "metadata": {
        "id": "qEJhOZ51lG2W"
      },
      "source": [
        "#**Lab 7 - Least squares II**"
      ]
    },
    {
      "cell_type": "markdown",
      "metadata": {
        "id": "y0oQ0MWSlwfG"
      },
      "source": [
        "Enter your code in the spaces provided. Do not change any of the variable names or function names that are already provided for you. In places where we specify the name of the return value, make sure that your code produces the a value with the correct name."
      ]
    },
    {
      "cell_type": "code",
      "metadata": {
        "id": "-rYZn3kyGXYe"
      },
      "source": [
        "# Do not edit this cell.\n",
        "\n",
        "LabID=\"Lab7\"\n",
        "\n",
        "try:\n",
        "  from graderHelp import ISGRADEPLOT\n",
        "except ImportError:\n",
        "  ISGRADEPLOT = True"
      ],
      "execution_count": null,
      "outputs": []
    },
    {
      "cell_type": "markdown",
      "metadata": {
        "id": "duxZxqozGc15"
      },
      "source": [
        "**Enter your name, section number, and BYU NetID**"
      ]
    },
    {
      "cell_type": "code",
      "metadata": {
        "id": "BuU-yivAGhCc"
      },
      "source": [
        "# Enter your first and last names in between the quotation marks.\n",
        "\n",
        "first_name=\"Marshal\"\n",
        "\n",
        "last_name=\"Taylor\"\n",
        "\n",
        "# Enter your Math 215 section number in between the quotation marks. \n",
        "\n",
        "section_number=\"001\"  \n",
        "\n",
        "# Enter your BYU NetID in between the quotation marks.  NOT YOUR BYU ID NUMBER! \n",
        "\n",
        "BYUNetID=\"mpt777\"  "
      ],
      "execution_count": null,
      "outputs": []
    },
    {
      "cell_type": "markdown",
      "metadata": {
        "id": "Hn2V1YPPSeV8"
      },
      "source": [
        "**Import the data set**"
      ]
    },
    {
      "cell_type": "markdown",
      "metadata": {
        "id": "ulLrk9LIYYjE"
      },
      "source": [
        "The simplest way to load the data into Colab is to first download it as a .csv file to your local computer by clicking the link\n",
        "\n",
        "https://drive.google.com/uc?export=download&id=1iFTaBmnv1X66BO9cV_RP7OxvUr9dNJ-l\n",
        "\n",
        "This will allow you to download the data as a .csv file.  In the top left corner of this screen you should see a little file folder icon.  Selecting it opens a new window to the left of the notebook with three tabs: \"Upload\", \"Refresh\", and \"Mount Drive\".  Select \"Upload\". This should bring up a window that allows you to select the file \"Lab7data\" from your local machine, which will upload the file to your notebook. You will need to do this again if you decide to close your notebook and reopen it at a later time. "
      ]
    },
    {
      "cell_type": "markdown",
      "metadata": {
        "id": "hnYh-rFvZ1c0"
      },
      "source": [
        "Once you've uploaded your file, convert it to a NumPy array called \"signal_data\" by executing the following cell."
      ]
    },
    {
      "cell_type": "code",
      "metadata": {
        "id": "-rvSM9MIXZSS",
        "colab": {
          "base_uri": "https://localhost:8080/"
        },
        "outputId": "c16234fe-da9c-4ca8-a6dc-88b51c1a4002"
      },
      "source": [
        "import numpy as np\n",
        "import pandas as pd\n",
        "\n",
        "df = pd.read_csv('Lab7data.csv')\n",
        "signal_data=df.values\n",
        "signal_data"
      ],
      "execution_count": 3,
      "outputs": [
        {
          "output_type": "execute_result",
          "data": {
            "text/plain": [
              "array([[0.        , 0.42908643],\n",
              "       [0.01      , 0.4541735 ],\n",
              "       [0.02      , 0.43351901],\n",
              "       ...,\n",
              "       [6.26      , 0.4964696 ],\n",
              "       [6.27      , 0.5578126 ],\n",
              "       [6.28      , 0.46953165]])"
            ]
          },
          "metadata": {
            "tags": []
          },
          "execution_count": 3
        }
      ]
    },
    {
      "cell_type": "markdown",
      "metadata": {
        "id": "O_rLaE7jKxoH"
      },
      "source": [
        "**Problem 1**"
      ]
    },
    {
      "cell_type": "code",
      "metadata": {
        "id": "dzudpi4_l8-8"
      },
      "source": [
        "T=signal_data[:, 0]        # Replace the value of 0 with the NumPy vector that contains all of the time values in the array signal_data (the first column).\n",
        "\n",
        "Y=signal_data[:, 1]         # Replace the value of 0 with the NumPy vector that contains all of the signal amplitude values in the array signal_data (the second column)."
      ],
      "execution_count": 6,
      "outputs": []
    },
    {
      "cell_type": "code",
      "metadata": {
        "id": "8g3cI5DAy38j",
        "colab": {
          "base_uri": "https://localhost:8080/",
          "height": 295
        },
        "outputId": "ab7974a8-d755-4d53-b204-aea155441294"
      },
      "source": [
        "import matplotlib.pyplot as plt\n",
        "\n",
        "plt.plot(T, Y)\n",
        "plt.title(\"Amplitude over Time for Signal Data\")\n",
        "plt.xlabel(\" Time \")\n",
        "plt.ylabel(\" Amplitude \")\n",
        "plt.show()\n",
        "\n",
        "# Create the plot here of the data in the vectors T and Y."
      ],
      "execution_count": 8,
      "outputs": [
        {
          "output_type": "display_data",
          "data": {
            "image/png": "[encoded data removed]",
            "text/plain": [
              "<Figure size 432x288 with 1 Axes>"
            ]
          },
          "metadata": {
            "tags": [],
            "needs_background": "light"
          }
        }
      ]
    },
    {
      "cell_type": "markdown",
      "metadata": {
        "id": "_jL7OuIYLa4Y"
      },
      "source": [
        "**Problem 2**"
      ]
    },
    {
      "cell_type": "code",
      "metadata": {
        "id": "iKwv9UTP2wVY"
      },
      "source": [
        "# This function returns the row [1,cos(t),sin(t), cos(2*t), sin(2*t) , ... , cos(n*t), sin(n*t)] of our matrix X.\n",
        "\n",
        "def row_func(t,n):\n",
        "  L = [f(k * t) for k in range(1, n+1) for f in [np.cos, np.sin]]\n",
        "  L.insert(0,1)\n",
        "  return L # Put your return value here."
      ],
      "execution_count": 9,
      "outputs": []
    },
    {
      "cell_type": "markdown",
      "metadata": {
        "id": "d5ifaZmSMHDw"
      },
      "source": [
        "**Problem 3**"
      ]
    },
    {
      "cell_type": "code",
      "metadata": {
        "id": "s0DwJTH32wZD"
      },
      "source": [
        "# This function returns the matrix X, which we call the design matrix.\n",
        "\n",
        "def design_matrix(n):\n",
        "  X = [row_func(T[k], n) for k in range(len(T))]\n",
        "  return np.asarray(X) # Put your return value here."
      ],
      "execution_count": 18,
      "outputs": []
    },
    {
      "cell_type": "markdown",
      "metadata": {
        "id": "6jMH7PXwMcuy"
      },
      "source": [
        "**Problem 4**"
      ]
    },
    {
      "cell_type": "code",
      "metadata": {
        "id": "IEx679YY2wb6"
      },
      "source": [
        "X2=design_matrix(2)   # Replace the value of 0 with the NumPy array that is returned from the function call design_matrix(2)."
      ],
      "execution_count": 19,
      "outputs": []
    },
    {
      "cell_type": "markdown",
      "metadata": {
        "id": "kb9FLrTTM0sj"
      },
      "source": [
        "**Problem 5**"
      ]
    },
    {
      "cell_type": "code",
      "metadata": {
        "id": "szmSRQQi2wes"
      },
      "source": [
        "# Replace all of the 0 values with the NumPy matrices and vectors requested in Problem 5.\n",
        "\n",
        "normal_coef2 = np.array(np.matmul(np.transpose(X2), X2))\n",
        "\n",
        "normal_vect2 = np.array(np.matmul(np.transpose(X2), Y))\n",
        "\n",
        "beta2 = np.linalg.solve(normal_coef2, normal_vect2)"
      ],
      "execution_count": 20,
      "outputs": []
    },
    {
      "cell_type": "markdown",
      "metadata": {
        "id": "5WB-yTRsNKib"
      },
      "source": [
        "**Problem 6**"
      ]
    },
    {
      "cell_type": "code",
      "metadata": {
        "id": "MmdpSsYQ2whe"
      },
      "source": [
        "# This is our function which approximates the signal strength when n=2.\n",
        "\n",
        "def f2(t):\n",
        "  x = np.asarray(row_func(t,2))\n",
        "  y = np.dot(beta2, x)\n",
        "  return y # Put your return value here."
      ],
      "execution_count": 22,
      "outputs": []
    },
    {
      "cell_type": "markdown",
      "metadata": {
        "id": "1AoEo5z6Ne0z"
      },
      "source": [
        "**Problem 7**"
      ]
    },
    {
      "cell_type": "code",
      "metadata": {
        "id": "d58LBX-n2wkf",
        "colab": {
          "base_uri": "https://localhost:8080/",
          "height": 265
        },
        "outputId": "19b0b103-1aa7-462d-9913-05c0606939fc"
      },
      "source": [
        "# Create your plot here.  \n",
        "vf2=np.vectorize(f2)    # This creates a new function, vf2, which is\n",
        "                        # the same as f2 except for the fact that is\n",
        "                        # can take a NumPy array as input, instead of\n",
        "                        # individual values.\n",
        "\n",
        "plt.plot(T,Y,'r.')      # Creating the plot of the data points in Y\n",
        "                        # using small red dots.\n",
        "\n",
        "plt.plot(T,vf2(T),'b-') # Creating the plot of the function f2 with a\n",
        "                        # blue line. Here we use the function vf2\n",
        "                        # instead of f2, since we are plugging in a\n",
        "                        # NumPy array T.\n",
        "\n",
        "plt.show()              # Display the plots."
      ],
      "execution_count": 23,
      "outputs": [
        {
          "output_type": "display_data",
          "data": {
            "image/png": "[encoded data removed]",
            "text/plain": [
              "<Figure size 432x288 with 1 Axes>"
            ]
          },
          "metadata": {
            "tags": [],
            "needs_background": "light"
          }
        }
      ]
    },
    {
      "cell_type": "markdown",
      "metadata": {
        "id": "5-V1WD9UNmZl"
      },
      "source": [
        "**Problem 8**"
      ]
    },
    {
      "cell_type": "code",
      "metadata": {
        "id": "6GA_8AAF2wnY"
      },
      "source": [
        "MSE2 = (1/629)*( (np.linalg.norm( np.dot(X2, beta2) - Y) ) ** 2 )    # Replace the 0 value with the mean square error you compute in Problem 8."
      ],
      "execution_count": 24,
      "outputs": []
    },
    {
      "cell_type": "markdown",
      "metadata": {
        "id": "8LFlkszMN4nq"
      },
      "source": [
        "**Problem 9**"
      ]
    },
    {
      "cell_type": "code",
      "metadata": {
        "id": "Zy6SewX02wqp",
        "colab": {
          "base_uri": "https://localhost:8080/"
        },
        "outputId": "b078b5a9-b87b-4810-edb4-5f6f9d3d621a"
      },
      "source": [
        "# Replace the 0 values with the values requested in Problem 9.  Remember to copy the decimal values from your practice notebook, not the formulas you used to compute them.\n",
        "\n",
        "MSE10 = 0.009348751458203415\n",
        "\n",
        "pred10 = 0.5087757565416515\n"
      ],
      "execution_count": 27,
      "outputs": [
        {
          "output_type": "stream",
          "text": [
            "0.5087757565416515\n"
          ],
          "name": "stdout"
        }
      ]
    },
    {
      "cell_type": "markdown",
      "metadata": {
        "id": "5KJ4X0qgmW52"
      },
      "source": [
        "**Problem 10**"
      ]
    },
    {
      "cell_type": "code",
      "metadata": {
        "id": "cUMtfns0mWCc"
      },
      "source": [
        "# Replace the 0 values with the values requested in Problem 10.  Remember to copy the decimal values from your practice notebook, not the formulas you used to compute them.\n",
        "\n",
        "MSE100 = 0.0014547562364331283\n",
        "\n",
        "pred100 = 0.5089902472113171"
      ],
      "execution_count": 31,
      "outputs": []
    },
    {
      "cell_type": "markdown",
      "metadata": {
        "id": "3gFdGK5_m_iw"
      },
      "source": [
        "**Problem 11**"
      ]
    },
    {
      "cell_type": "code",
      "metadata": {
        "id": "g3ggF7gxDzAp"
      },
      "source": [
        "# Replace the 0 values with the values requested in Problem 11.  Remember to copy the decimal values from your practice notebook, not the formulas you used to compute them.\n",
        "MSE1000 = 3.1095435053994233e-27\n",
        "\n",
        "pred1000 = 63.223687525069195"
      ],
      "execution_count": 40,
      "outputs": []
    },
    {
      "cell_type": "markdown",
      "metadata": {
        "id": "bAO57Q_PGt-R"
      },
      "source": [
        "**STOP!  BEFORE YOU SUBMIT THIS LAB:**  Go to the \"Runtime\" menu at the top of this page, and select \"Restart and run all\".  If any of the cells produce error messages, you will either need to fix the error(s) or delete the code that is causing the error(s).  Then use \"Restart and run all\" again to see if there are any new errors.  Repeat this until no new error messages show up.   "
      ]
    },
    {
      "cell_type": "markdown",
      "metadata": {
        "id": "CG2Gju8CGxZU"
      },
      "source": [
        "**You are not ready to submit until you are able to select \"Restart and run all\" without any new error messages showing up.  Your code will not be able to be graded if there are any error messages.**"
      ]
    },
    {
      "cell_type": "markdown",
      "metadata": {
        "id": "KmCDBD_QoPLh"
      },
      "source": [
        "To submit your lab for grading you must first download it to your compute as .py file. In the \"File\" menu select \"Download .py\". The resulting file can then be uploaded to http://www.math.byu.edu:30000 for grading."
      ]
    }
  ]
}