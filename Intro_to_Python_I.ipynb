{
  "nbformat": 4,
  "nbformat_minor": 0,
  "metadata": {
    "colab": {
      "name": "Intro_to_Python_I.ipynb",
      "provenance": [],
      "collapsed_sections": [],
      "include_colab_link": true
    },
    "kernelspec": {
      "name": "python3",
      "display_name": "Python 3"
    }
  },
  "cells": [
    {
      "cell_type": "markdown",
      "metadata": {
        "id": "view-in-github",
        "colab_type": "text"
      },
      "source": [
        "<a href=\"https://colab.research.google.com/github/mpt777/Math215/blob/main/Intro_to_Python_I.ipynb\" target=\"_parent\"><img src=\"https://colab.research.google.com/assets/colab-badge.svg\" alt=\"Open In Colab\"/></a>"
      ]
    },
    {
      "cell_type": "markdown",
      "metadata": {
        "id": "685r5AWPa9Xe"
      },
      "source": [
        "# **Lab 1 - Introduction to Python programming I**"
      ]
    },
    {
      "cell_type": "markdown",
      "metadata": {
        "id": "V-qYB1txmmzK"
      },
      "source": [
        "Enter your code in the spaces provided.  Do not change any of the variable names or function names that are already provided for you.  In places where we specify the name of the return value, make sure that your code produces the a value with the correct name."
      ]
    },
    {
      "cell_type": "code",
      "metadata": {
        "id": "2Jh6GIwanXmY"
      },
      "source": [
        "# Do not edit this cell.\n",
        "\n",
        "LabID=\"Lab1\"\n",
        "\n",
        "try:\n",
        "  from graderHelp import ISGRADEPLOT\n",
        "except ImportError:\n",
        "  ISGRADEPLOT = True"
      ],
      "execution_count": 10,
      "outputs": []
    },
    {
      "cell_type": "markdown",
      "metadata": {
        "id": "QxyApY1lbIyA"
      },
      "source": [
        "**Enter your name, section number, and BYU NetID**"
      ]
    },
    {
      "cell_type": "code",
      "metadata": {
        "id": "Y4Ga6wzLbG-K"
      },
      "source": [
        "# Enter your first and last names in between the quotation marks.\n",
        "\n",
        "first_name=\"Marshal\"\n",
        "\n",
        "last_name=\"Taylor\"\n",
        "\n",
        "# Enter your Math 215 section number in between the quotation marks. \n",
        "\n",
        "section_number=\"001\"\"  \n",
        "\n",
        "# Enter your BYU NetID in between the quotation marks.  NOT YOUR BYU ID NUMBER!\n",
        "\n",
        "BYUNetID=\"mpt777\"  "
      ],
      "execution_count": null,
      "outputs": []
    },
    {
      "cell_type": "markdown",
      "metadata": {
        "id": "NCF4YDbeblKI"
      },
      "source": [
        "**Problem 1**"
      ]
    },
    {
      "cell_type": "code",
      "metadata": {
        "id": "ZJJu3xyWb2OG",
        "colab": {
          "base_uri": "https://localhost:8080/"
        },
        "outputId": "59090398-04f5-44b8-ce3f-4bf77b0e700b"
      },
      "source": [
        "my_first_var=(118+11*2)/(9-2)   # Replace the value of 0 with the required expression from Problem 1."
      ],
      "execution_count": 3,
      "outputs": [
        {
          "output_type": "execute_result",
          "data": {
            "text/plain": [
              "20.0"
            ]
          },
          "metadata": {
            "tags": []
          },
          "execution_count": 3
        }
      ]
    },
    {
      "cell_type": "markdown",
      "metadata": {
        "id": "g3Hq1OYZfq5B"
      },
      "source": [
        "**Problem 2**"
      ]
    },
    {
      "cell_type": "code",
      "metadata": {
        "id": "mqfH8cBsfs1e",
        "colab": {
          "base_uri": "https://localhost:8080/"
        },
        "outputId": "705d5548-8ad7-4d31-bfc0-026f2bf4480c"
      },
      "source": [
        "def arithmetic2(i):\n",
        "  return((((i+2)*3)-5)) # Put your return value here.  Your shouldn't need to add any more lines of code to this function."
      ],
      "execution_count": 13,
      "outputs": [
        {
          "output_type": "execute_result",
          "data": {
            "text/plain": [
              "10"
            ]
          },
          "metadata": {
            "tags": []
          },
          "execution_count": 13
        }
      ]
    },
    {
      "cell_type": "markdown",
      "metadata": {
        "id": "qrKdBbfFgpOU"
      },
      "source": [
        "**Problem 3**"
      ]
    },
    {
      "cell_type": "code",
      "metadata": {
        "id": "84RmxbZmgTX-",
        "colab": {
          "base_uri": "https://localhost:8080/"
        },
        "outputId": "ab118d34-582b-4f51-9dc0-65f8587f4dfd"
      },
      "source": [
        "def triple(y):\n",
        "  return 3*y # Put your return value here. "
      ],
      "execution_count": 14,
      "outputs": [
        {
          "output_type": "execute_result",
          "data": {
            "text/plain": [
              "30"
            ]
          },
          "metadata": {
            "tags": []
          },
          "execution_count": 14
        }
      ]
    },
    {
      "cell_type": "code",
      "metadata": {
        "id": "_WQe_9NZg-Q3",
        "colab": {
          "base_uri": "https://localhost:8080/"
        },
        "outputId": "bb1a8385-ca00-4de1-e860-d748bdd6e051"
      },
      "source": [
        "def avg(x,y):\n",
        "  return (x+y)/2  # Put your return value here."
      ],
      "execution_count": 16,
      "outputs": [
        {
          "output_type": "execute_result",
          "data": {
            "text/plain": [
              "3.0"
            ]
          },
          "metadata": {
            "tags": []
          },
          "execution_count": 16
        }
      ]
    },
    {
      "cell_type": "code",
      "metadata": {
        "id": "-DoJnLekhEgD",
        "colab": {
          "base_uri": "https://localhost:8080/"
        },
        "outputId": "a0b1de3f-69fd-4bf9-c7b3-a2b81e0b3e89"
      },
      "source": [
        "def combine(x,y):\n",
        "  # Put your code here.  Remember that this function should call both of the functions triple(y) and avg(x,y) from above.\n",
        "  return avg(x,triple(y))# Put your return value here."
      ],
      "execution_count": 17,
      "outputs": [
        {
          "output_type": "execute_result",
          "data": {
            "text/plain": [
              "10.5"
            ]
          },
          "metadata": {
            "tags": []
          },
          "execution_count": 17
        }
      ]
    },
    {
      "cell_type": "markdown",
      "metadata": {
        "id": "vAPEAMw_iGlF"
      },
      "source": [
        "**Problem 4**"
      ]
    },
    {
      "cell_type": "code",
      "metadata": {
        "id": "GSJqyHzriHyM",
        "colab": {
          "base_uri": "https://localhost:8080/"
        },
        "outputId": "5eab2344-eb0a-4bc3-8d5f-8b1a1266df5c"
      },
      "source": [
        "def first(c):\n",
        "  # Put your code here.\n",
        "  return c[0]# Put your return value here."
      ],
      "execution_count": 18,
      "outputs": [
        {
          "output_type": "execute_result",
          "data": {
            "text/plain": [
              "1"
            ]
          },
          "metadata": {
            "tags": []
          },
          "execution_count": 18
        }
      ]
    },
    {
      "cell_type": "code",
      "metadata": {
        "id": "qUfk0PngiQ0E",
        "colab": {
          "base_uri": "https://localhost:8080/"
        },
        "outputId": "111ce241-57ff-4143-8222-57be63112cb4"
      },
      "source": [
        "def first_last(c):\n",
        "  # Put your code here.\n",
        "  return first(c), c[len(c)-1]# Put your return values here.  Remember a function can return two values (you will format your return statement as \"return value1, value2\")."
      ],
      "execution_count": 28,
      "outputs": [
        {
          "output_type": "execute_result",
          "data": {
            "text/plain": [
              "(1, 5)"
            ]
          },
          "metadata": {
            "tags": []
          },
          "execution_count": 28
        }
      ]
    },
    {
      "cell_type": "code",
      "metadata": {
        "id": "LdadxnmCkG8w",
        "colab": {
          "base_uri": "https://localhost:8080/"
        },
        "outputId": "184e1e65-2e75-4b5f-ccf8-3bbb3f3252d7"
      },
      "source": [
        "def middle(c):\n",
        "  # Put your code here.\n",
        "  return c[1:len(c)-1]# Put your return value here."
      ],
      "execution_count": 25,
      "outputs": [
        {
          "output_type": "execute_result",
          "data": {
            "text/plain": [
              "[2, 3, 4]"
            ]
          },
          "metadata": {
            "tags": []
          },
          "execution_count": 25
        }
      ]
    },
    {
      "cell_type": "markdown",
      "metadata": {
        "id": "H1pF-iahkVSF"
      },
      "source": [
        "**Problem 5**"
      ]
    },
    {
      "cell_type": "code",
      "metadata": {
        "id": "8nJnVRG5kTr8",
        "colab": {
          "base_uri": "https://localhost:8080/"
        },
        "outputId": "9856223b-d2c4-4dfb-dac4-9a500fc37cc1"
      },
      "source": [
        "def swap(c):\n",
        "  original_list=c.copy() # This creates a copy of the list c, which is called original_list.  Your function should work with this list instead of the list c which is passed to the function.\n",
        "  c[0] = original_list[len(original_list)-1]\n",
        "  c[len(c)-1] = original_list[0]\n",
        "  # Put your code here.\n",
        "  return c# Put your return value here.\n",
        "swap(w)"
      ],
      "execution_count": 29,
      "outputs": [
        {
          "output_type": "execute_result",
          "data": {
            "text/plain": [
              "[5, 2, 3, 4, 1]"
            ]
          },
          "metadata": {
            "tags": []
          },
          "execution_count": 29
        }
      ]
    },
    {
      "cell_type": "markdown",
      "metadata": {
        "id": "re7RuJoFlzOF"
      },
      "source": [
        "**Problem 6**"
      ]
    },
    {
      "cell_type": "code",
      "metadata": {
        "id": "yEVLhVbjkbDo",
        "colab": {
          "base_uri": "https://localhost:8080/"
        },
        "outputId": "c14a089d-cf13-40dc-e1b7-1683febc6a50"
      },
      "source": [
        "def absolute_value(x):\n",
        "  if x >= 0:\n",
        "    return x\n",
        "  elif x < 0:\n",
        "    return x*-1\n",
        "  # Put your code here."
      ],
      "execution_count": 31,
      "outputs": [
        {
          "output_type": "execute_result",
          "data": {
            "text/plain": [
              "8"
            ]
          },
          "metadata": {
            "tags": []
          },
          "execution_count": 31
        }
      ]
    },
    {
      "cell_type": "markdown",
      "metadata": {
        "id": "EipWzzRll93V"
      },
      "source": [
        "**Problem 7**"
      ]
    },
    {
      "cell_type": "code",
      "metadata": {
        "id": "WkBLvjjCl80O",
        "colab": {
          "base_uri": "https://localhost:8080/"
        },
        "outputId": "85e44afc-15ea-4736-d839-69bd0e4ae353"
      },
      "source": [
        "def indicator(lower,upper,n):\n",
        "  if lower <= upper and n <= upper and n >= lower:\n",
        "    return 1\n",
        "  else:\n",
        "    return 0\n",
        "  # Put your code here."
      ],
      "execution_count": 33,
      "outputs": [
        {
          "output_type": "execute_result",
          "data": {
            "text/plain": [
              "1"
            ]
          },
          "metadata": {
            "tags": []
          },
          "execution_count": 33
        }
      ]
    },
    {
      "cell_type": "markdown",
      "metadata": {
        "id": "RWju9gIhmQ5F"
      },
      "source": [
        "**Problem 8**"
      ]
    },
    {
      "cell_type": "code",
      "metadata": {
        "id": "SPpsjK27mQKJ",
        "colab": {
          "base_uri": "https://localhost:8080/"
        },
        "outputId": "ebaa454c-e3ba-4e28-aa26-a482de07c0de"
      },
      "source": [
        "def trunc_max(x,y):\n",
        "  if x >= 0 or y >= 0:\n",
        "    if x >= y:\n",
        "      return x\n",
        "    elif y >= x:\n",
        "      return y\n",
        "  else:\n",
        "    return 0\n",
        "  # Put your code here.\n",
        "trunc_max(3,1000)"
      ],
      "execution_count": 37,
      "outputs": [
        {
          "output_type": "execute_result",
          "data": {
            "text/plain": [
              "1000"
            ]
          },
          "metadata": {
            "tags": []
          },
          "execution_count": 37
        }
      ]
    },
    {
      "cell_type": "markdown",
      "metadata": {
        "id": "x7EZGaY0Ufim"
      },
      "source": [
        "**STOP!  BEFORE YOU SUBMIT THIS LAB:**  Go to the \"Runtime\" menu at the top of this page, and select \"Restart and run all\".  If any of the cells produce error messages, you will either need to fix the error(s) or delete the code that is causing the error(s).  Then use \"Restart and run all\" again to see if there are any new errors.  Repeat this until no new error messages show up.  "
      ]
    },
    {
      "cell_type": "markdown",
      "metadata": {
        "id": "Wjeko4xfUla-"
      },
      "source": [
        "**You are not ready to submit until you are able to select \"Restart and run all\" without any new error messages showing up.  Your code will not be able to be graded if there are any error messages.**"
      ]
    },
    {
      "cell_type": "markdown",
      "metadata": {
        "id": "BiDWiRIrRt5Z"
      },
      "source": [
        "To submit your lab for grading you must first download it to your compute as .py file. In the \"File\" menu select \"Download .py\". The resulting file can then be uploaded to http://www.math.byu.edu:30000 for grading."
      ]
    }
  ]
}