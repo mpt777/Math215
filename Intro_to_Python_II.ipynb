{
  "nbformat": 4,
  "nbformat_minor": 0,
  "metadata": {
    "colab": {
      "name": "Intro_to_Python_II.ipynb",
      "provenance": [],
      "collapsed_sections": [],
      "include_colab_link": true
    },
    "kernelspec": {
      "name": "python3",
      "display_name": "Python 3"
    }
  },
  "cells": [
    {
      "cell_type": "markdown",
      "metadata": {
        "id": "view-in-github",
        "colab_type": "text"
      },
      "source": [
        "<a href=\"https://colab.research.google.com/github/mpt777/Math215/blob/main/Intro_to_Python_II.ipynb\" target=\"_parent\"><img src=\"https://colab.research.google.com/assets/colab-badge.svg\" alt=\"Open In Colab\"/></a>"
      ]
    },
    {
      "cell_type": "markdown",
      "metadata": {
        "id": "685r5AWPa9Xe"
      },
      "source": [
        "# **Lab 2 - Introduction to Python programming II**"
      ]
    },
    {
      "cell_type": "markdown",
      "metadata": {
        "id": "V-qYB1txmmzK"
      },
      "source": [
        "Enter your code in the spaces provided. Do not change any of the variable names or function names that are already provided for you. In places where we specify the name of the return value, make sure that your code produces the a value with the correct name."
      ]
    },
    {
      "cell_type": "code",
      "metadata": {
        "id": "Gn91PfqIdio9"
      },
      "source": [
        "# Do not edit this cell.\n",
        "\n",
        "LabID=\"Lab2\"\n",
        "\n",
        "try:\n",
        "  from graderHelp import ISGRADEPLOT\n",
        "except ImportError:\n",
        "  ISGRADEPLOT = True"
      ],
      "execution_count": 1,
      "outputs": []
    },
    {
      "cell_type": "markdown",
      "metadata": {
        "id": "QxyApY1lbIyA"
      },
      "source": [
        "**Enter your name, section number, and BYU NetID**"
      ]
    },
    {
      "cell_type": "code",
      "metadata": {
        "id": "Y4Ga6wzLbG-K"
      },
      "source": [
        "# Enter your first and last names in between the quotation marks.\n",
        "\n",
        "first_name=\"Marshal\"\n",
        "\n",
        "last_name=\"Taylor\"\n",
        "\n",
        "# Enter your Math 215 section number in between the quotation marks. \n",
        "\n",
        "section_number=\"001\"  \n",
        "\n",
        "# Enter your BYU NetID in between the quotation marks.  NOT YOUR BYU ID NUMBER!\n",
        "\n",
        "BYUNetID=\"mpt777\""
      ],
      "execution_count": 2,
      "outputs": []
    },
    {
      "cell_type": "markdown",
      "metadata": {
        "id": "NCF4YDbeblKI"
      },
      "source": [
        "**Problem 1**"
      ]
    },
    {
      "cell_type": "code",
      "metadata": {
        "id": "ZJJu3xyWb2OG",
        "colab": {
          "base_uri": "https://localhost:8080/"
        },
        "outputId": "ec9bebf1-29ab-4736-941a-3e638cd1418d"
      },
      "source": [
        "my_list=[1,2,3,4]\r\n",
        "\r\n",
        "for i in my_list:\r\n",
        "  i=2*i\r\n",
        "  print(my_list[0])\r\n",
        "first_elem=1   # Replace the value of 0 with the number described in Problem 1.\r\n",
        "#It did not work"
      ],
      "execution_count": 18,
      "outputs": [
        {
          "output_type": "stream",
          "text": [
            "1\n",
            "1\n",
            "1\n",
            "1\n"
          ],
          "name": "stdout"
        }
      ]
    },
    {
      "cell_type": "markdown",
      "metadata": {
        "id": "g3Hq1OYZfq5B"
      },
      "source": [
        "**Problem 2**"
      ]
    },
    {
      "cell_type": "code",
      "metadata": {
        "id": "mqfH8cBsfs1e"
      },
      "source": [
        "def sum_list(L):\n",
        "  sum = 0\n",
        "  for i in L:\n",
        "    sum += i\n",
        "  # Put your code here. \n",
        "  return sum # Put your return value here."
      ],
      "execution_count": 4,
      "outputs": []
    },
    {
      "cell_type": "markdown",
      "metadata": {
        "id": "qrKdBbfFgpOU"
      },
      "source": [
        "**Problem 3**"
      ]
    },
    {
      "cell_type": "code",
      "metadata": {
        "id": "84RmxbZmgTX-"
      },
      "source": [
        "def list_relu(L):\n",
        "  original_list=L.copy()  # Remember to create a copy of your list.  After this lab you'll need to remember to do it on your own.\n",
        "  new_list = []\n",
        "  # Put your code here. \n",
        "  for i in original_list:\n",
        "    if i < 0:\n",
        "      i=0\n",
        "    else:\n",
        "      i=i\n",
        "    new_list.append(i)\n",
        "  return new_list# Put your return value here."
      ],
      "execution_count": 5,
      "outputs": []
    },
    {
      "cell_type": "markdown",
      "metadata": {
        "id": "vAPEAMw_iGlF"
      },
      "source": [
        "**Problem 4**"
      ]
    },
    {
      "cell_type": "code",
      "metadata": {
        "id": "g7Tm-N35qY5O"
      },
      "source": [
        "import numpy as np  # Importing NumPy"
      ],
      "execution_count": 6,
      "outputs": []
    },
    {
      "cell_type": "code",
      "metadata": {
        "id": "GSJqyHzriHyM",
        "colab": {
          "base_uri": "https://localhost:8080/"
        },
        "outputId": "723dd031-b22e-4b1d-94e8-c4e4097f5895"
      },
      "source": [
        "my_var=((np.exp(5)-(np.log(np.sqrt(5)))) / (np.exp(np.cos(3))))   # Replace the value of 0 with the required value from Problem 4.\r\n",
        "print(my_var)"
      ],
      "execution_count": 26,
      "outputs": [
        {
          "output_type": "stream",
          "text": [
            "397.24594182538\n"
          ],
          "name": "stdout"
        }
      ]
    },
    {
      "cell_type": "markdown",
      "metadata": {
        "id": "H1pF-iahkVSF"
      },
      "source": [
        "**Problem 5**"
      ]
    },
    {
      "cell_type": "code",
      "metadata": {
        "id": "8nJnVRG5kTr8",
        "colab": {
          "base_uri": "https://localhost:8080/"
        },
        "outputId": "f8c2e269-ef3f-4375-849a-0086d12cea4e"
      },
      "source": [
        "import numpy as np\r\n",
        "v=np.array([1,3,-2,4,5])\r\n",
        "u=np.array([1,1,-2,1,1])\r\n",
        "w=np.array([1,0,1,0,1])\r\n",
        "\r\n",
        "my_vect_var = ( ((np.dot(v,u)) / (np.dot(u,u)))* u) + (((np.dot(v,w)) / (np.dot(w,w))) * w)\r\n",
        "print(my_vect_var)  # Replace the value of 0 with the required value from Problem 5."
      ],
      "execution_count": 8,
      "outputs": [
        {
          "output_type": "stream",
          "text": [
            "[ 3.45833333  2.125      -2.91666667  2.125       3.45833333]\n"
          ],
          "name": "stdout"
        }
      ]
    },
    {
      "cell_type": "markdown",
      "metadata": {
        "id": "re7RuJoFlzOF"
      },
      "source": [
        "**Problem 6**"
      ]
    },
    {
      "cell_type": "code",
      "metadata": {
        "id": "yEVLhVbjkbDo"
      },
      "source": [
        "def first_rpt(M):\n",
        "  original_matrix=M.copy()  # Remember to create a copy of your matrix.  After this lab you'll need to remember to do it on your own.\n",
        "  # Put your code here. \n",
        "  for i in range(len(M)):\n",
        "    original_matrix[i] = M[0]\n",
        "  return original_matrix # Put your return value here."
      ],
      "execution_count": 9,
      "outputs": []
    },
    {
      "cell_type": "markdown",
      "metadata": {
        "id": "EipWzzRll93V"
      },
      "source": [
        "**Problem 7**"
      ]
    },
    {
      "cell_type": "code",
      "metadata": {
        "id": "WkBLvjjCl80O"
      },
      "source": [
        "def matrix_sum(M):\n",
        "  sum = 0\n",
        "  for i in range(len(M)):\n",
        "    for j in range(len(M[0,:])):\n",
        "      sum += M[i,j]\n",
        "      print(sum)\n",
        "  # Put your code here. \n",
        "  return sum # Put your return value here."
      ],
      "execution_count": 10,
      "outputs": []
    },
    {
      "cell_type": "markdown",
      "metadata": {
        "id": "RWju9gIhmQ5F"
      },
      "source": [
        "**Problem 8**"
      ]
    },
    {
      "cell_type": "code",
      "metadata": {
        "id": "SPpsjK27mQKJ",
        "colab": {
          "base_uri": "https://localhost:8080/"
        },
        "outputId": "f3e52d0d-db4c-400e-98cc-6cde5a301e4f"
      },
      "source": [
        "def Long_List(base,exponent):\r\n",
        "  user_list = []\r\n",
        "  for i in range(1,exponent):\r\n",
        "    user_list += [base**i]\r\n",
        "  return user_list\r\n",
        "\r\n",
        "long_list=Long_List(0.5,101)\r\n",
        "print(long_list)"
      ],
      "execution_count": 36,
      "outputs": [
        {
          "output_type": "stream",
          "text": [
            "[0.5, 0.25, 0.125, 0.0625, 0.03125, 0.015625, 0.0078125, 0.00390625, 0.001953125, 0.0009765625, 0.00048828125, 0.000244140625, 0.0001220703125, 6.103515625e-05, 3.0517578125e-05, 1.52587890625e-05, 7.62939453125e-06, 3.814697265625e-06, 1.9073486328125e-06, 9.5367431640625e-07, 4.76837158203125e-07, 2.384185791015625e-07, 1.1920928955078125e-07, 5.960464477539063e-08, 2.9802322387695312e-08, 1.4901161193847656e-08, 7.450580596923828e-09, 3.725290298461914e-09, 1.862645149230957e-09, 9.313225746154785e-10, 4.656612873077393e-10, 2.3283064365386963e-10, 1.1641532182693481e-10, 5.820766091346741e-11, 2.9103830456733704e-11, 1.4551915228366852e-11, 7.275957614183426e-12, 3.637978807091713e-12, 1.8189894035458565e-12, 9.094947017729282e-13, 4.547473508864641e-13, 2.2737367544323206e-13, 1.1368683772161603e-13, 5.684341886080802e-14, 2.842170943040401e-14, 1.4210854715202004e-14, 7.105427357601002e-15, 3.552713678800501e-15, 1.7763568394002505e-15, 8.881784197001252e-16, 4.440892098500626e-16, 2.220446049250313e-16, 1.1102230246251565e-16, 5.551115123125783e-17, 2.7755575615628914e-17, 1.3877787807814457e-17, 6.938893903907228e-18, 3.469446951953614e-18, 1.734723475976807e-18, 8.673617379884035e-19, 4.336808689942018e-19, 2.168404344971009e-19, 1.0842021724855044e-19, 5.421010862427522e-20, 2.710505431213761e-20, 1.3552527156068805e-20, 6.776263578034403e-21, 3.3881317890172014e-21, 1.6940658945086007e-21, 8.470329472543003e-22, 4.235164736271502e-22, 2.117582368135751e-22, 1.0587911840678754e-22, 5.293955920339377e-23, 2.6469779601696886e-23, 1.3234889800848443e-23, 6.617444900424222e-24, 3.308722450212111e-24, 1.6543612251060553e-24, 8.271806125530277e-25, 4.1359030627651384e-25, 2.0679515313825692e-25, 1.0339757656912846e-25, 5.169878828456423e-26, 2.5849394142282115e-26, 1.2924697071141057e-26, 6.462348535570529e-27, 3.2311742677852644e-27, 1.6155871338926322e-27, 8.077935669463161e-28, 4.0389678347315804e-28, 2.0194839173657902e-28, 1.0097419586828951e-28, 5.048709793414476e-29, 2.524354896707238e-29, 1.262177448353619e-29, 6.310887241768095e-30, 3.1554436208840472e-30, 1.5777218104420236e-30, 7.888609052210118e-31]\n"
          ],
          "name": "stdout"
        }
      ]
    },
    {
      "cell_type": "markdown",
      "metadata": {
        "id": "50kkHPD4o_ga"
      },
      "source": [
        "**Problem 9**"
      ]
    },
    {
      "cell_type": "code",
      "metadata": {
        "id": "lSrlFYZIo_DF",
        "colab": {
          "base_uri": "https://localhost:8080/"
        },
        "outputId": "8676d24a-0db5-4f3c-8ffc-8cb8394d7b1d"
      },
      "source": [
        "def Very_Long_List(base,exponent):\r\n",
        "  user_list = []\r\n",
        "  for i in range(1,exponent):\r\n",
        "    for j in range(1,base):\r\n",
        "      user_list += [i**j]\r\n",
        "      \r\n",
        "  return user_list\r\n",
        "\r\n",
        "very_long_list= Very_Long_List(3,3)  # Replace the value of 0 with the required list from Problem 9.\r\n",
        "print(very_long_list)"
      ],
      "execution_count": 39,
      "outputs": [
        {
          "output_type": "stream",
          "text": [
            "[1, 1, 2, 4]\n"
          ],
          "name": "stdout"
        }
      ]
    },
    {
      "cell_type": "markdown",
      "metadata": {
        "id": "zrBhGZMmVIcv"
      },
      "source": [
        "**STOP!  BEFORE YOU SUBMIT THIS LAB:**  Go to the \"Runtime\" menu at the top of this page, and select \"Restart and run all\".  If any of the cells produce error messages, you will either need to fix the error(s) or delete the code that is causing the error(s).  Then use \"Restart and run all\" again to see if there are any new errors.  Repeat this until no new error messages show up.  "
      ]
    },
    {
      "cell_type": "markdown",
      "metadata": {
        "id": "wI-gv66GVJ3X"
      },
      "source": [
        "**You are not ready to submit until you are able to select \"Restart and run all\" without any new error messages showing up.  Your code will not be able to be graded if there are any error messages.**"
      ]
    },
    {
      "cell_type": "markdown",
      "metadata": {
        "id": "nM-hGrpATAv4"
      },
      "source": [
        "To submit your lab for grading you must first download it to your compute as .py file. In the \"File\" menu select \"Download .py\". The resulting file can then be uploaded to http://www.math.byu.edu:30000 for grading."
      ]
    }
  ]
}