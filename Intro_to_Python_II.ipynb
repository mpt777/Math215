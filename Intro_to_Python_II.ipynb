{
  "nbformat": 4,
  "nbformat_minor": 0,
  "metadata": {
    "colab": {
      "name": "Intro_to_Python_II.ipynb",
      "provenance": [],
      "collapsed_sections": [],
      "include_colab_link": true
    },
    "kernelspec": {
      "name": "python3",
      "display_name": "Python 3"
    }
  },
  "cells": [
    {
      "cell_type": "markdown",
      "metadata": {
        "id": "view-in-github",
        "colab_type": "text"
      },
      "source": [
        "<a href=\"https://colab.research.google.com/github/mpt777/Math215/blob/main/Intro_to_Python_II.ipynb\" target=\"_parent\"><img src=\"https://colab.research.google.com/assets/colab-badge.svg\" alt=\"Open In Colab\"/></a>"
      ]
    },
    {
      "cell_type": "markdown",
      "metadata": {
        "id": "685r5AWPa9Xe"
      },
      "source": [
        "# **Lab 2 - Introduction to Python programming II**"
      ]
    },
    {
      "cell_type": "markdown",
      "metadata": {
        "id": "V-qYB1txmmzK"
      },
      "source": [
        "Enter your code in the spaces provided. Do not change any of the variable names or function names that are already provided for you. In places where we specify the name of the return value, make sure that your code produces the a value with the correct name."
      ]
    },
    {
      "cell_type": "code",
      "metadata": {
        "id": "Gn91PfqIdio9"
      },
      "source": [
        "# Do not edit this cell.\n",
        "\n",
        "LabID=\"Lab2\"\n",
        "\n",
        "try:\n",
        "  from graderHelp import ISGRADEPLOT\n",
        "except ImportError:\n",
        "  ISGRADEPLOT = True"
      ],
      "execution_count": null,
      "outputs": []
    },
    {
      "cell_type": "markdown",
      "metadata": {
        "id": "QxyApY1lbIyA"
      },
      "source": [
        "**Enter your name, section number, and BYU NetID**"
      ]
    },
    {
      "cell_type": "code",
      "metadata": {
        "id": "Y4Ga6wzLbG-K"
      },
      "source": [
        "# Enter your first and last names in between the quotation marks.\n",
        "\n",
        "first_name=\"Marshal\"\n",
        "\n",
        "last_name=\"Taylor\"\n",
        "\n",
        "# Enter your Math 215 section number in between the quotation marks. \n",
        "\n",
        "section_number=\"001\"  \n",
        "\n",
        "# Enter your BYU NetID in between the quotation marks.  NOT YOUR BYU ID NUMBER!\n",
        "\n",
        "BYUNetID=\"mpt777\""
      ],
      "execution_count": null,
      "outputs": []
    },
    {
      "cell_type": "markdown",
      "metadata": {
        "id": "NCF4YDbeblKI"
      },
      "source": [
        "**Problem 1**"
      ]
    },
    {
      "cell_type": "code",
      "metadata": {
        "id": "ZJJu3xyWb2OG",
        "colab": {
          "base_uri": "https://localhost:8080/"
        },
        "outputId": "68ab0007-f5c8-485c-f175-44c67140cf6a"
      },
      "source": [
        "first_elem=8   # Replace the value of 0 with the number described in Problem 1."
      ],
      "execution_count": null,
      "outputs": [
        {
          "output_type": "stream",
          "text": [
            "8\n"
          ],
          "name": "stdout"
        }
      ]
    },
    {
      "cell_type": "markdown",
      "metadata": {
        "id": "g3Hq1OYZfq5B"
      },
      "source": [
        "**Problem 2**"
      ]
    },
    {
      "cell_type": "code",
      "metadata": {
        "id": "mqfH8cBsfs1e",
        "colab": {
          "base_uri": "https://localhost:8080/"
        },
        "outputId": "4605af0b-0794-4ca3-b98a-91c52edd9188"
      },
      "source": [
        "def sum_list(L):\n",
        "  sum = 0\n",
        "  for i in L:\n",
        "    sum += i\n",
        "  # Put your code here. \n",
        "  return sum # Put your return value here."
      ],
      "execution_count": null,
      "outputs": [
        {
          "output_type": "execute_result",
          "data": {
            "text/plain": [
              "-2"
            ]
          },
          "metadata": {
            "tags": []
          },
          "execution_count": 12
        }
      ]
    },
    {
      "cell_type": "markdown",
      "metadata": {
        "id": "qrKdBbfFgpOU"
      },
      "source": [
        "**Problem 3**"
      ]
    },
    {
      "cell_type": "code",
      "metadata": {
        "id": "84RmxbZmgTX-",
        "colab": {
          "base_uri": "https://localhost:8080/"
        },
        "outputId": "b6db0d8f-35ab-4fb3-fd98-5ebaa55bcc35"
      },
      "source": [
        "def list_relu(L):\n",
        "  original_list=L.copy()  # Remember to create a copy of your list.  After this lab you'll need to remember to do it on your own.\n",
        "  new_list = []\n",
        "  # Put your code here. \n",
        "  for i in original_list:\n",
        "    if i < 0:\n",
        "      i=0\n",
        "    else:\n",
        "      i=i\n",
        "    new_list.append(i)\n",
        "  return new_list# Put your return value here."
      ],
      "execution_count": null,
      "outputs": [
        {
          "output_type": "execute_result",
          "data": {
            "text/plain": [
              "[1, 0, 17, 0, 0]"
            ]
          },
          "metadata": {
            "tags": []
          },
          "execution_count": 3
        }
      ]
    },
    {
      "cell_type": "markdown",
      "metadata": {
        "id": "vAPEAMw_iGlF"
      },
      "source": [
        "**Problem 4**"
      ]
    },
    {
      "cell_type": "code",
      "metadata": {
        "id": "g7Tm-N35qY5O"
      },
      "source": [
        "import numpy as np  # Importing NumPy"
      ],
      "execution_count": null,
      "outputs": []
    },
    {
      "cell_type": "code",
      "metadata": {
        "id": "GSJqyHzriHyM",
        "colab": {
          "base_uri": "https://localhost:8080/"
        },
        "outputId": "60ee48cf-bbd4-440c-917c-1c603edf6113"
      },
      "source": [
        "my_var=((np.e)-(np.log(np.sqrt(5))) / (np.e**np.cos(3)))   # Replace the value of 0 with the required value from Problem 4.\r\n",
        "my_var"
      ],
      "execution_count": null,
      "outputs": [
        {
          "output_type": "execute_result",
          "data": {
            "text/plain": [
              "0.552610682891677"
            ]
          },
          "metadata": {
            "tags": []
          },
          "execution_count": 11
        }
      ]
    },
    {
      "cell_type": "markdown",
      "metadata": {
        "id": "H1pF-iahkVSF"
      },
      "source": [
        "**Problem 5**"
      ]
    },
    {
      "cell_type": "code",
      "metadata": {
        "id": "8nJnVRG5kTr8",
        "colab": {
          "base_uri": "https://localhost:8080/"
        },
        "outputId": "490428fe-a8be-4483-8ba9-d9976e42b952"
      },
      "source": [
        "import numpy as np\r\n",
        "v=np.array([1,3,-2,4,5])\r\n",
        "u=np.array([1,1,-2,1,1])\r\n",
        "w=np.array([1,0,1,0,1])\r\n",
        "\r\n",
        "my_vect_var = ( ((np.dot(v,u)) / (np.dot(u,u)))* u) + (((np.dot(v,w)) / (np.dot(w,w))) * w)\r\n",
        "print(my_vect_var)  # Replace the value of 0 with the required value from Problem 5."
      ],
      "execution_count": 5,
      "outputs": [
        {
          "output_type": "stream",
          "text": [
            "[ 3.45833333  2.125      -2.91666667  2.125       3.45833333]\n"
          ],
          "name": "stdout"
        }
      ]
    },
    {
      "cell_type": "markdown",
      "metadata": {
        "id": "re7RuJoFlzOF"
      },
      "source": [
        "**Problem 6**"
      ]
    },
    {
      "cell_type": "code",
      "metadata": {
        "id": "yEVLhVbjkbDo",
        "colab": {
          "base_uri": "https://localhost:8080/"
        },
        "outputId": "93a4a216-e5be-4e8c-b278-dad16cd16799"
      },
      "source": [
        "def first_rpt(M):\n",
        "  original_matrix=M.copy()  # Remember to create a copy of your matrix.  After this lab you'll need to remember to do it on your own.\n",
        "  # Put your code here. \n",
        "  for i in range(len(M)):\n",
        "    original_matrix[i] = M[0]\n",
        "  return original_matrix # Put your return value here."
      ],
      "execution_count": 18,
      "outputs": [
        {
          "output_type": "execute_result",
          "data": {
            "text/plain": [
              "array([[ 1,  3, -2,  4,  5],\n",
              "       [ 1,  3, -2,  4,  5],\n",
              "       [ 1,  3, -2,  4,  5],\n",
              "       [ 1,  3, -2,  4,  5],\n",
              "       [ 1,  3, -2,  4,  5]])"
            ]
          },
          "metadata": {
            "tags": []
          },
          "execution_count": 18
        }
      ]
    },
    {
      "cell_type": "markdown",
      "metadata": {
        "id": "EipWzzRll93V"
      },
      "source": [
        "**Problem 7**"
      ]
    },
    {
      "cell_type": "code",
      "metadata": {
        "id": "WkBLvjjCl80O",
        "colab": {
          "base_uri": "https://localhost:8080/"
        },
        "outputId": "757bc91f-5ca2-4250-d0f6-412fc6a40d26"
      },
      "source": [
        "def matrix_sum(M):\n",
        "  sum = 0\n",
        "  for i in range(len(M)):\n",
        "    for j in range(len(M[0,:])):\n",
        "      sum += M[i,j]\n",
        "      print(sum)\n",
        "  # Put your code here. \n",
        "  return sum # Put your return value here.\n",
        "  x=np.array([[ 1,  3,  2,  4,  5]])\n",
        "matrix_sum(x)"
      ],
      "execution_count": 26,
      "outputs": [
        {
          "output_type": "stream",
          "text": [
            "1\n",
            "4\n",
            "2\n",
            "6\n",
            "11\n",
            "12\n",
            "13\n",
            "11\n",
            "12\n",
            "13\n"
          ],
          "name": "stdout"
        },
        {
          "output_type": "execute_result",
          "data": {
            "text/plain": [
              "13"
            ]
          },
          "metadata": {
            "tags": []
          },
          "execution_count": 26
        }
      ]
    },
    {
      "cell_type": "markdown",
      "metadata": {
        "id": "RWju9gIhmQ5F"
      },
      "source": [
        "**Problem 8**"
      ]
    },
    {
      "cell_type": "code",
      "metadata": {
        "id": "SPpsjK27mQKJ",
        "colab": {
          "base_uri": "https://localhost:8080/"
        },
        "outputId": "3cf85f8f-5f05-48c7-afd4-8ba611ff695b"
      },
      "source": [
        "#\\(\\left[0.5^1,0.5^2,0.5^3,...,0.5^{100}\\right],\\)\r\n",
        "long_list=['\\(\\left[0.5^1','0.5^2','0.5^3','...','0.5^{100}\\right]','\\)'] # Replace the value of 0 with the required list from Problem 8.\r\n",
        "print(long_list)"
      ],
      "execution_count": 28,
      "outputs": [
        {
          "output_type": "stream",
          "text": [
            "['\\\\(\\\\left[0.5^1', '0.5^2', '0.5^3', '...', '0.5^{100}\\right]', '\\\\)']\n"
          ],
          "name": "stdout"
        }
      ]
    },
    {
      "cell_type": "markdown",
      "metadata": {
        "id": "50kkHPD4o_ga"
      },
      "source": [
        "**Problem 9**"
      ]
    },
    {
      "cell_type": "code",
      "metadata": {
        "id": "lSrlFYZIo_DF",
        "colab": {
          "base_uri": "https://localhost:8080/"
        },
        "outputId": "e3d6701b-7dfa-4950-d2e8-fc5d70c4bb7f"
      },
      "source": [
        "def Very_Long_List(base,exponent):\r\n",
        "  user_list = []\r\n",
        "  for i in range(1,base):\r\n",
        "    for j in range(1,exponent):\r\n",
        "      user_list += [str(i)+'^'+str(j)]\r\n",
        "  return user_list\r\n",
        "\r\n",
        "very_long_list= Very_Long_List(3,100)  # Replace the value of 0 with the required list from Problem 9.\r\n",
        "print(very_long_list)"
      ],
      "execution_count": 44,
      "outputs": [
        {
          "output_type": "stream",
          "text": [
            "['1^1', '1^2', '1^3', '1^4', '1^5', '1^6', '1^7', '1^8', '1^9', '1^10', '1^11', '1^12', '1^13', '1^14', '1^15', '1^16', '1^17', '1^18', '1^19', '1^20', '1^21', '1^22', '1^23', '1^24', '1^25', '1^26', '1^27', '1^28', '1^29', '1^30', '1^31', '1^32', '1^33', '1^34', '1^35', '1^36', '1^37', '1^38', '1^39', '1^40', '1^41', '1^42', '1^43', '1^44', '1^45', '1^46', '1^47', '1^48', '1^49', '1^50', '1^51', '1^52', '1^53', '1^54', '1^55', '1^56', '1^57', '1^58', '1^59', '1^60', '1^61', '1^62', '1^63', '1^64', '1^65', '1^66', '1^67', '1^68', '1^69', '1^70', '1^71', '1^72', '1^73', '1^74', '1^75', '1^76', '1^77', '1^78', '1^79', '1^80', '1^81', '1^82', '1^83', '1^84', '1^85', '1^86', '1^87', '1^88', '1^89', '1^90', '1^91', '1^92', '1^93', '1^94', '1^95', '1^96', '1^97', '1^98', '1^99', '2^1', '2^2', '2^3', '2^4', '2^5', '2^6', '2^7', '2^8', '2^9', '2^10', '2^11', '2^12', '2^13', '2^14', '2^15', '2^16', '2^17', '2^18', '2^19', '2^20', '2^21', '2^22', '2^23', '2^24', '2^25', '2^26', '2^27', '2^28', '2^29', '2^30', '2^31', '2^32', '2^33', '2^34', '2^35', '2^36', '2^37', '2^38', '2^39', '2^40', '2^41', '2^42', '2^43', '2^44', '2^45', '2^46', '2^47', '2^48', '2^49', '2^50', '2^51', '2^52', '2^53', '2^54', '2^55', '2^56', '2^57', '2^58', '2^59', '2^60', '2^61', '2^62', '2^63', '2^64', '2^65', '2^66', '2^67', '2^68', '2^69', '2^70', '2^71', '2^72', '2^73', '2^74', '2^75', '2^76', '2^77', '2^78', '2^79', '2^80', '2^81', '2^82', '2^83', '2^84', '2^85', '2^86', '2^87', '2^88', '2^89', '2^90', '2^91', '2^92', '2^93', '2^94', '2^95', '2^96', '2^97', '2^98', '2^99']\n"
          ],
          "name": "stdout"
        }
      ]
    },
    {
      "cell_type": "markdown",
      "metadata": {
        "id": "zrBhGZMmVIcv"
      },
      "source": [
        "**STOP!  BEFORE YOU SUBMIT THIS LAB:**  Go to the \"Runtime\" menu at the top of this page, and select \"Restart and run all\".  If any of the cells produce error messages, you will either need to fix the error(s) or delete the code that is causing the error(s).  Then use \"Restart and run all\" again to see if there are any new errors.  Repeat this until no new error messages show up.  "
      ]
    },
    {
      "cell_type": "markdown",
      "metadata": {
        "id": "wI-gv66GVJ3X"
      },
      "source": [
        "**You are not ready to submit until you are able to select \"Restart and run all\" without any new error messages showing up.  Your code will not be able to be graded if there are any error messages.**"
      ]
    },
    {
      "cell_type": "markdown",
      "metadata": {
        "id": "nM-hGrpATAv4"
      },
      "source": [
        "To submit your lab for grading you must first download it to your compute as .py file. In the \"File\" menu select \"Download .py\". The resulting file can then be uploaded to http://www.math.byu.edu:30000 for grading."
      ]
    }
  ]
}