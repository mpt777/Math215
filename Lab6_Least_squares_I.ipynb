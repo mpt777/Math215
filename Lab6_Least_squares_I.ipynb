{
  "nbformat": 4,
  "nbformat_minor": 0,
  "metadata": {
    "colab": {
      "name": "Copy of Least_squares_I.ipynb",
      "provenance": [],
      "collapsed_sections": [],
      "include_colab_link": true
    },
    "kernelspec": {
      "name": "python3",
      "display_name": "Python 3"
    }
  },
  "cells": [
    {
      "cell_type": "markdown",
      "metadata": {
        "id": "view-in-github",
        "colab_type": "text"
      },
      "source": [
        "<a href=\"https://colab.research.google.com/github/mpt777/Math215/blob/main/Lab6_Least_squares_I.ipynb\" target=\"_parent\"><img src=\"https://colab.research.google.com/assets/colab-badge.svg\" alt=\"Open In Colab\"/></a>"
      ]
    },
    {
      "cell_type": "markdown",
      "metadata": {
        "id": "qEJhOZ51lG2W"
      },
      "source": [
        "#**Lab 6 - Least squares I**"
      ]
    },
    {
      "cell_type": "markdown",
      "metadata": {
        "id": "y0oQ0MWSlwfG"
      },
      "source": [
        "Enter your code in the spaces provided. Do not change any of the variable names or function names that are already provided for you. In places where we specify the name of the return value, make sure that your code produces the a value with the correct name."
      ]
    },
    {
      "cell_type": "code",
      "metadata": {
        "id": "2Nrp1zcbaqGM"
      },
      "source": [
        "# Do not edit this cell.\n",
        "\n",
        "LabID=\"Lab6\"\n",
        "\n",
        "try:\n",
        "  from graderHelp import ISGRADEPLOT\n",
        "except ImportError:\n",
        "  ISGRADEPLOT = True"
      ],
      "execution_count": null,
      "outputs": []
    },
    {
      "cell_type": "markdown",
      "metadata": {
        "id": "CGHZ14CWl0sS"
      },
      "source": [
        "**Enter your name, section number, and BYU NetID**"
      ]
    },
    {
      "cell_type": "code",
      "metadata": {
        "id": "knzMO488lOPx"
      },
      "source": [
        "# Enter your first and last names in between the quotation marks.\n",
        "\n",
        "first_name=\"Marshal\"\n",
        "\n",
        "last_name=\"Taylor\"\n",
        "\n",
        "# Enter your Math 215 section number in between the quotation marks. \n",
        "\n",
        "section_number=\"001\"  \n",
        "\n",
        "# Enter your BYU NetID in between the quotation marks.  NOT YOUR BYU ID NUMBER! \n",
        "\n",
        "BYUNetID=\"mpt777\"   "
      ],
      "execution_count": null,
      "outputs": []
    },
    {
      "cell_type": "markdown",
      "metadata": {
        "id": "Y8-Gu3xdn16v"
      },
      "source": [
        "**Import NumPy**"
      ]
    },
    {
      "cell_type": "code",
      "metadata": {
        "id": "aQaOsNh2nq7s"
      },
      "source": [
        "import numpy as np"
      ],
      "execution_count": null,
      "outputs": []
    },
    {
      "cell_type": "markdown",
      "metadata": {
        "id": "8TbgwXGZmETs"
      },
      "source": [
        "**Problem 1**"
      ]
    },
    {
      "cell_type": "code",
      "metadata": {
        "id": "dzudpi4_l8-8"
      },
      "source": [
        "# Replace the values of 0 with the NumPy arrays from Problem 1.\n",
        "\n",
        "X1 = np.array([[1, 5], [1, 10], [1, 15], [1, 20], [1, 25], [1, 30], [1, 35], [1, 40], [1, 45], [1, 50]])\n",
        "\n",
        "Y1 = np.array([3.33, 4.43, 4.39, 5.23, 5.67, 6.06, 7.01, 7.16, 8.03, 8.78])"
      ],
      "execution_count": null,
      "outputs": []
    },
    {
      "cell_type": "markdown",
      "metadata": {
        "id": "5KJ4X0qgmW52"
      },
      "source": [
        "**Problem 2**"
      ]
    },
    {
      "cell_type": "code",
      "metadata": {
        "id": "cUMtfns0mWCc"
      },
      "source": [
        "# Replace the values of 0 with the normal equation coefficient matrix and normal equation right-hand side respectively from Problem 2.\n",
        "\n",
        "normal_coef1 = np.array(np.matmul(np.transpose(X1), X1))\n",
        "\n",
        "normal_vect1 = np.array(np.matmul(np.transpose(X1), Y1))"
      ],
      "execution_count": null,
      "outputs": []
    },
    {
      "cell_type": "markdown",
      "metadata": {
        "id": "3gFdGK5_m_iw"
      },
      "source": [
        "**Problem 3**"
      ]
    },
    {
      "cell_type": "code",
      "metadata": {
        "id": "dEt45tv6m6l2"
      },
      "source": [
        "# Replace the value of 0 with the least squares solution beta1 you found in Problem 3.\n",
        "\n",
        "beta1 = np.linalg.solve(normal_coef1, normal_vect1)"
      ],
      "execution_count": null,
      "outputs": []
    },
    {
      "cell_type": "code",
      "metadata": {
        "id": "g3ggF7gxDzAp"
      },
      "source": [
        "# Define a function whose graph is the line of best fit.\n",
        "\n",
        "def ls1_line(x): \n",
        "  y = beta1[0] + (beta1[1]*x)\n",
        "  return y # Put your return value here."
      ],
      "execution_count": null,
      "outputs": []
    },
    {
      "cell_type": "code",
      "metadata": {
        "id": "xUQ2XqefD2m4",
        "colab": {
          "base_uri": "https://localhost:8080/",
          "height": 295
        },
        "outputId": "d6235854-56dd-4b76-fbed-f099c61996af"
      },
      "source": [
        "import matplotlib.pyplot as plt\n",
        "\n",
        "# Construct your plot of ls1_line and the corresponding data points here. Put all of your code to create the plots inside the function below.\n",
        "\n",
        "def create_plots1():\n",
        "  # Put all of your code to create the plots here.\n",
        "  plt.plot(X1[:,1],ls1_line(X1[:,1]))\n",
        "  plt.title(\"Time Vs Velocity of a Satellite\")\n",
        "  plt.xlabel(\"Time in seconds\")\n",
        "  plt.ylabel(\"Velocity m/s\")\n",
        "  plt.show()\n",
        "  return None\n",
        "\n",
        "create_plots1()"
      ],
      "execution_count": null,
      "outputs": [
        {
          "output_type": "display_data",
          "data": {
            "image/png": "[encoded data removed]",
            "text/plain": [
              "<Figure size 432x288 with 1 Axes>"
            ]
          },
          "metadata": {
            "tags": [],
            "needs_background": "light"
          }
        }
      ]
    },
    {
      "cell_type": "code",
      "metadata": {
        "id": "fDqU-M4PD7X8",
        "colab": {
          "base_uri": "https://localhost:8080/"
        },
        "outputId": "9bedb20a-5d3b-484d-ad7a-903c0f689971"
      },
      "source": [
        "# Replace the value of 0 with your prediction of the satellite's velocity at t=60.\n",
        "\n",
        "pred1=ls1_line(60)\n",
        "print(pred1)"
      ],
      "execution_count": null,
      "outputs": [
        {
          "output_type": "stream",
          "text": [
            "9.705333333333328\n"
          ],
          "name": "stdout"
        }
      ]
    },
    {
      "cell_type": "markdown",
      "metadata": {
        "id": "GD3rR1rmngih"
      },
      "source": [
        "**Problem 4**"
      ]
    },
    {
      "cell_type": "code",
      "metadata": {
        "id": "Wun2LuScnf86"
      },
      "source": [
        "# Replace the values of 0 with the NumPy arrays from Problem 4.\n",
        "\n",
        "X2 = np.array([[5, 5**2],[10, 10**2],[15, 15**2],[20, 20**2],[25, 25**2],[30, 30**2],[35, 35**2],[40, 40**2],[45, 45**2],[50, 50**2]]) \n",
        "\n",
        "Y2 = np.array([20.57, 87.48, 197.45, 347.67, 546.12, 784.35, 1066.02, 1390.97, 1761.85, 2177.34])"
      ],
      "execution_count": null,
      "outputs": []
    },
    {
      "cell_type": "markdown",
      "metadata": {
        "id": "MEdhRzaVnyEk"
      },
      "source": [
        "**Problem 5**"
      ]
    },
    {
      "cell_type": "code",
      "metadata": {
        "id": "-alFFjs1nqIn"
      },
      "source": [
        "# Replace the values of 0 with the normal equation coefficient matrix and normal equation right-hand side, and least squares solution from Problem 5.\n",
        "\n",
        "normal_coef2 = np.array(np.matmul(np.transpose(X2), X2))\n",
        "\n",
        "normal_vect2 = np.array(np.matmul(np.transpose(X2), Y2))\n",
        "\n",
        "beta2 = np.linalg.solve(normal_coef2, normal_vect2)"
      ],
      "execution_count": null,
      "outputs": []
    },
    {
      "cell_type": "markdown",
      "metadata": {
        "id": "ZIy-K2jFn6aX"
      },
      "source": [
        "**Problem 6**"
      ]
    },
    {
      "cell_type": "code",
      "metadata": {
        "id": "wMfWsibBn5vS"
      },
      "source": [
        "# Define a function whose graph is the parabola of best fit.\n",
        "\n",
        "def ls2_par(x): \n",
        "  y = (beta2[0]*x) + (beta2[1]*(x**2))# Put your code here.\n",
        "  return y# Put your return value here."
      ],
      "execution_count": null,
      "outputs": []
    },
    {
      "cell_type": "code",
      "metadata": {
        "id": "zhKaUUXHEqSy",
        "colab": {
          "base_uri": "https://localhost:8080/",
          "height": 295
        },
        "outputId": "ce643695-2e95-40a1-eea3-cac2b40b5b7f"
      },
      "source": [
        "# Construct your plot of ls2_par and the corresponding data points here. Put all of your code to create the plots inside the function below.\n",
        "\n",
        "def create_plots2():\n",
        "  plt.plot(X2[:,0],ls2_par(X2[:,0]))\n",
        "  plt.title(\"Time Vs Velocity of a Satellite\")\n",
        "  plt.xlabel(\"Time in seconds\")\n",
        "  plt.ylabel(\"Distance\")\n",
        "  plt.show()# Put all of your code to create the plots here.\n",
        "  return None \n",
        "\n",
        "create_plots2()"
      ],
      "execution_count": null,
      "outputs": [
        {
          "output_type": "display_data",
          "data": {
            "image/png": "[encoded data removed]",
            "text/plain": [
              "<Figure size 432x288 with 1 Axes>"
            ]
          },
          "metadata": {
            "tags": [],
            "needs_background": "light"
          }
        }
      ]
    },
    {
      "cell_type": "code",
      "metadata": {
        "id": "XjjXl9JFEpwr",
        "colab": {
          "base_uri": "https://localhost:8080/"
        },
        "outputId": "51c66de4-70d5-47d1-e468-cb0140c748da"
      },
      "source": [
        "# Replace the value of 0 with your prediction of the satellite's position at t=60.\n",
        "pred2 = ls2_par(60)\n",
        "print(pred2)"
      ],
      "execution_count": null,
      "outputs": [
        {
          "output_type": "stream",
          "text": [
            "3132.7288674698802\n"
          ],
          "name": "stdout"
        }
      ]
    },
    {
      "cell_type": "markdown",
      "metadata": {
        "id": "LhCNjC6CoLgr"
      },
      "source": [
        "**Problem 7**"
      ]
    },
    {
      "cell_type": "code",
      "metadata": {
        "id": "zbGvfgyFoB48"
      },
      "source": [
        "# Replace the values of 0 with the NumPy arrays from Problem 7.\n",
        "\n",
        "X3 = np.array([[1, np.log(87.77)], [1, np.log(224.70)], [1, np.log(365.25)], [1, np.log(686.95)], [1, np.log(4332.62)], [1, np.log(10759.2)]])\n",
        "\n",
        "Y3 = np.array([np.log(0.389), np.log(0.724), np.log(1), np.log(1.524), np.log(5.2), np.log(9.510)])"
      ],
      "execution_count": null,
      "outputs": []
    },
    {
      "cell_type": "code",
      "metadata": {
        "id": "tq0RwhhbFG48"
      },
      "source": [
        "# Replace the values of 0 with the normal equation coefficient matrix and normal equation right-hand side from Problem 7.\n",
        "\n",
        "normal_coef3 = np.array(np.matmul(np.transpose(X3), X3))\n",
        "\n",
        "normal_vect3 = np.array(np.matmul(np.transpose(X3), Y3))"
      ],
      "execution_count": null,
      "outputs": []
    },
    {
      "cell_type": "code",
      "metadata": {
        "id": "UWL7D0KEFG-a"
      },
      "source": [
        "# Replace the value of 0 with the least squares solution from Problem 7.\n",
        "\n",
        "beta3 = np.linalg.solve(normal_coef3, normal_vect3)"
      ],
      "execution_count": null,
      "outputs": []
    },
    {
      "cell_type": "markdown",
      "metadata": {
        "id": "p-USBmwsoWpQ"
      },
      "source": [
        "**Problem 8**"
      ]
    },
    {
      "cell_type": "code",
      "metadata": {
        "id": "x4hb9gpmoRLd",
        "colab": {
          "base_uri": "https://localhost:8080/"
        },
        "outputId": "940a5327-96bb-4078-fa2d-e794493db420"
      },
      "source": [
        "# Replace the values of 0 with your predictions for the semi-major axes of Uranus and Neptune.\n",
        "\n",
        "pred_Uran = (np.exp(beta3[0])) * 30687.15**(beta3[1])\n",
        "\n",
        "pred_Nept = (np.exp(beta3[0])) * 60190.03**(beta3[1])"
      ],
      "execution_count": null,
      "outputs": [
        {
          "output_type": "stream",
          "text": [
            "19.09888498785687\n"
          ],
          "name": "stdout"
        }
      ]
    },
    {
      "cell_type": "markdown",
      "metadata": {
        "id": "Mk0LI_O6bi0V"
      },
      "source": [
        "**STOP!  BEFORE YOU SUBMIT THIS LAB:**  Go to the \"Runtime\" menu at the top of this page, and select \"Restart and run all\".  If any of the cells produce error messages, you will either need to fix the error(s) or delete the code that is causing the error(s).  Then use \"Restart and run all\" again to see if there are any new errors.  Repeat this until no new error messages show up.   "
      ]
    },
    {
      "cell_type": "markdown",
      "metadata": {
        "id": "UB13NobBbo3n"
      },
      "source": [
        "**You are not ready to submit until you are able to select \"Restart and run all\" without any new error messages showing up.  Your code will not be able to be graded if there are any error messages.**"
      ]
    },
    {
      "cell_type": "markdown",
      "metadata": {
        "id": "3ckZFzKgX-3k"
      },
      "source": [
        "To submit your lab for grading you must first download it to your compute as .py file. In the \"File\" menu select \"Download .py\". The resulting file can then be uploaded to http://www.math.byu.edu:30000 for grading."
      ]
    }
  ]
}