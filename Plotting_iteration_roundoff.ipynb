{
  "nbformat": 4,
  "nbformat_minor": 0,
  "metadata": {
    "colab": {
      "name": "Copy of Plotting_iteration_roundoff.ipynb",
      "provenance": [],
      "collapsed_sections": [],
      "include_colab_link": true
    },
    "kernelspec": {
      "name": "python3",
      "display_name": "Python 3"
    }
  },
  "cells": [
    {
      "cell_type": "markdown",
      "metadata": {
        "id": "view-in-github",
        "colab_type": "text"
      },
      "source": [
        "<a href=\"https://colab.research.google.com/github/mpt777/Math215/blob/main/Plotting_iteration_roundoff.ipynb\" target=\"_parent\"><img src=\"https://colab.research.google.com/assets/colab-badge.svg\" alt=\"Open In Colab\"/></a>"
      ]
    },
    {
      "cell_type": "markdown",
      "metadata": {
        "id": "qEJhOZ51lG2W"
      },
      "source": [
        "#**Lab 3 - Plotting, iteration, and roundoff error**"
      ]
    },
    {
      "cell_type": "markdown",
      "metadata": {
        "id": "y0oQ0MWSlwfG"
      },
      "source": [
        "Enter your code in the spaces provided. Do not change any of the variable names or function names that are already provided for you. In places where we specify the name of the return value, make sure that your code produces the a value with the correct name."
      ]
    },
    {
      "cell_type": "code",
      "metadata": {
        "id": "nHpSdb65cG_9"
      },
      "source": [
        "# Do not edit this cell.\n",
        "\n",
        "LabID=\"Lab3\"\n",
        "\n",
        "try:\n",
        "  from graderHelp import ISGRADEPLOT\n",
        "except ImportError:\n",
        "  ISGRADEPLOT = True"
      ],
      "execution_count": null,
      "outputs": []
    },
    {
      "cell_type": "markdown",
      "metadata": {
        "id": "CGHZ14CWl0sS"
      },
      "source": [
        "**Enter your BYU NetID**"
      ]
    },
    {
      "cell_type": "code",
      "metadata": {
        "id": "knzMO488lOPx"
      },
      "source": [
        "# Enter your first and last names in between the quotation marks.\n",
        "\n",
        "first_name=\"Marshal\"\n",
        "\n",
        "last_name=\"Taylor\"\n",
        "\n",
        "# Enter your Math 215 section number in between the quotation marks. \n",
        "\n",
        "section_number=\"001\"  \n",
        "\n",
        "# Enter your BYU NetID in between the quotation marks.  NOT YOUR BYU ID NUMBER! \n",
        "\n",
        "BYUNetID=\"mpt777\" "
      ],
      "execution_count": null,
      "outputs": []
    },
    {
      "cell_type": "markdown",
      "metadata": {
        "id": "lqw1plL5q5Q8"
      },
      "source": [
        "**Import NumPy and PyPlot**"
      ]
    },
    {
      "cell_type": "code",
      "metadata": {
        "id": "V02SfSEWq4hR"
      },
      "source": [
        "import numpy as np\n",
        "from matplotlib import pyplot as plt"
      ],
      "execution_count": 1,
      "outputs": []
    },
    {
      "cell_type": "markdown",
      "metadata": {
        "id": "8TbgwXGZmETs"
      },
      "source": [
        "**Problem 1**"
      ]
    },
    {
      "cell_type": "code",
      "metadata": {
        "id": "dzudpi4_l8-8",
        "colab": {
          "base_uri": "https://localhost:8080/",
          "height": 265
        },
        "outputId": "83145caa-37c3-4391-f113-2f7b72ca5b84"
      },
      "source": [
        "# Plot both functions from Problem 1 here.  Put all of your code to create the plot inside the function below.\n",
        "\n",
        "\n",
        "def create_plots():\n",
        "  x =  np.linspace(-2*np.pi,2 *np.pi)\n",
        "  y1 = np.sin(x)\n",
        "  y2 = np.cos(x)\n",
        "\n",
        "  plt.plot(x,y1)\n",
        "  plt.plot(x,y2)\n",
        "  plt.show()\n",
        "  \n",
        "  # Put all of your code to create the plot here.\n",
        "  return None\n",
        "\n",
        "create_plots()"
      ],
      "execution_count": 9,
      "outputs": [
        {
          "output_type": "display_data",
          "data": {
            "image/png": "[encoded data removed]",
            "text/plain": [
              "<Figure size 432x288 with 1 Axes>"
            ]
          },
          "metadata": {
            "tags": [],
            "needs_background": "light"
          }
        }
      ]
    },
    {
      "cell_type": "markdown",
      "metadata": {
        "id": "5KJ4X0qgmW52"
      },
      "source": [
        "**Problem 2**"
      ]
    },
    {
      "cell_type": "code",
      "metadata": {
        "id": "cUMtfns0mWCc",
        "colab": {
          "base_uri": "https://localhost:8080/",
          "height": 267
        },
        "outputId": "804dbc94-2584-4ebb-a29c-8cc70b66b5de"
      },
      "source": [
        "# Create the scatter plot from Problem 2 here.  Put all of your code to create the plot inside the function below.\n",
        "\n",
        "def create_scatter_plot():\n",
        "  # Get 500 random samples from two normal distributions.\n",
        "  x = np.random.normal(scale=1.5, size=500)\n",
        "  y = np.random.normal(scale=1,size=500)\n",
        "\n",
        "  # Draw a scatter plot of x against y, using transparent circle markers.\n",
        "  plt.plot(x,y,'x',markersize=5,alpha=1)\n",
        "  plt.show()\n",
        "  return None\n",
        "  \n",
        "create_scatter_plot()"
      ],
      "execution_count": 12,
      "outputs": [
        {
          "output_type": "display_data",
          "data": {
            "image/png": "[encoded data removed]",
            "text/plain": [
              "<Figure size 432x288 with 1 Axes>"
            ]
          },
          "metadata": {
            "tags": [],
            "needs_background": "light"
          }
        }
      ]
    },
    {
      "cell_type": "markdown",
      "metadata": {
        "id": "3gFdGK5_m_iw"
      },
      "source": [
        "**Problem 3**"
      ]
    },
    {
      "cell_type": "code",
      "metadata": {
        "id": "dEt45tv6m6l2",
        "colab": {
          "base_uri": "https://localhost:8080/"
        },
        "outputId": "aafece76-07ff-4ce4-aab3-e5cdc4bfc5de"
      },
      "source": [
        "def fact(n):\n",
        "  if n==0:\n",
        "    return 1 # Place the first part of your code here.\n",
        "  else:\n",
        "    return n * fact(n-1) # Place the remaining part of your code here.\n",
        "fact(4)"
      ],
      "execution_count": 21,
      "outputs": [
        {
          "output_type": "execute_result",
          "data": {
            "text/plain": [
              "24"
            ]
          },
          "metadata": {
            "tags": []
          },
          "execution_count": 21
        }
      ]
    },
    {
      "cell_type": "markdown",
      "metadata": {
        "id": "GD3rR1rmngih"
      },
      "source": [
        "**Problem 4**"
      ]
    },
    {
      "cell_type": "code",
      "metadata": {
        "id": "Wun2LuScnf86",
        "colab": {
          "base_uri": "https://localhost:8080/"
        },
        "outputId": "7836ea13-5992-4596-e9e9-9f69a9b54a5d"
      },
      "source": [
        "def f(x):\r\n",
        "   return (x**2) + (x) - 5 # Input a continuous function\r\n",
        "\r\n",
        "a= 0 # Choose a value where f(a)<0 or f(a)>0.\r\n",
        "b= 2 # Choose a value where f(b)>0 or f(b)<0 depending on your choice\r\n",
        "    # of a above.\r\n",
        "n= 13\r\n",
        " # Number of iterations you'd like to run the bisection method for.\r\n",
        "\r\n",
        "for i in range(n):\r\n",
        "   d = (a + b)/2\r\n",
        "   if f(d) < 0:\r\n",
        "      a = d\r\n",
        "   else:\r\n",
        "      b = d\r\n",
        "print(d)\r\n",
        "\r\n",
        "root = d # Replace the value -1 with your approximation to the root of f(x), correct to 12 decimal places."
      ],
      "execution_count": 106,
      "outputs": [
        {
          "output_type": "stream",
          "text": [
            "1.791259765625\n"
          ],
          "name": "stdout"
        }
      ]
    },
    {
      "cell_type": "markdown",
      "metadata": {
        "id": "MEdhRzaVnyEk"
      },
      "source": [
        "**Problem 5**"
      ]
    },
    {
      "cell_type": "code",
      "metadata": {
        "id": "siicGRDxJvA-",
        "colab": {
          "base_uri": "https://localhost:8080/"
        },
        "outputId": "a1f220f2-05da-46df-9d4d-0466970ee0f8"
      },
      "source": [
        "def g(x):\n",
        "  return (x**4) - (2*x**3) - (17*x**2) + (4*x) + 30\n",
        "\n",
        "def g_prime(x):\n",
        "  return (4*x**3) - (6*x**2) - (34*x) + (4)# Put your return value, i.e. the value of the derivative g'(x), here."
      ],
      "execution_count": 44,
      "outputs": [
        {
          "output_type": "execute_result",
          "data": {
            "text/plain": [
              "16"
            ]
          },
          "metadata": {
            "tags": []
          },
          "execution_count": 44
        }
      ]
    },
    {
      "cell_type": "markdown",
      "metadata": {
        "id": "zcQWmdVMJvMH"
      },
      "source": [
        "**Problem 6**"
      ]
    },
    {
      "cell_type": "code",
      "metadata": {
        "id": "Jwf7ivX1Jvbr",
        "colab": {
          "base_uri": "https://localhost:8080/"
        },
        "outputId": "30663f9f-d9bd-4cb5-ec34-9ad9646029ff"
      },
      "source": [
        "def newtons_method(starting_guess,n):\n",
        "  x_j = starting_guess\n",
        "  for i in range(n):\n",
        "    x_j = x_j - (( g(x_j) / g_prime(x_j) ))\n",
        "  # Put your code here.\n",
        "  return x_j\n",
        "\n",
        "newtons_method(10,5)"
      ],
      "execution_count": 72,
      "outputs": [
        {
          "output_type": "execute_result",
          "data": {
            "text/plain": [
              "5.0084530919691765"
            ]
          },
          "metadata": {
            "tags": []
          },
          "execution_count": 72
        }
      ]
    },
    {
      "cell_type": "markdown",
      "metadata": {
        "id": "6NgaI3MoJvtm"
      },
      "source": [
        "**Problem 7**"
      ]
    },
    {
      "cell_type": "code",
      "metadata": {
        "id": "-alFFjs1nqIn",
        "colab": {
          "base_uri": "https://localhost:8080/"
        },
        "outputId": "83cdefe1-956f-48cd-92f6-8768f980e0db"
      },
      "source": [
        "def integration(m):\n",
        "  E = 1 - ( 1 / np.exp(1) )\n",
        "\n",
        "  for i in range(1,m+1):\n",
        "    E = 1- (i*E)\n",
        "  # Put your code here.\n",
        "  return E # Put your return value here.\n",
        "integration(18)"
      ],
      "execution_count": 131,
      "outputs": [
        {
          "output_type": "execute_result",
          "data": {
            "text/plain": [
              "-0.029453670751536265"
            ]
          },
          "metadata": {
            "tags": []
          },
          "execution_count": 131
        }
      ]
    },
    {
      "cell_type": "markdown",
      "metadata": {
        "id": "2CMDJOJjnR4I"
      },
      "source": [
        "**STOP!  BEFORE YOU SUBMIT THIS LAB:**  Go to the \"Runtime\" menu at the top of this page, and select \"Restart and run all\".  If any of the cells produce error messages, you will either need to fix the error(s) or delete the code that is causing the error(s).  Then use \"Restart and run all\" again to see if there are any new errors.  Repeat this until no new error messages show up.   "
      ]
    },
    {
      "cell_type": "markdown",
      "metadata": {
        "id": "dNABy5d3oH97"
      },
      "source": [
        "**You are not ready to submit until you are able to select \"Restart and run all\" without any new error messages showing up.  Your code will not be able to be graded if there are any error messages.**"
      ]
    },
    {
      "cell_type": "markdown",
      "metadata": {
        "id": "u8tKJKW18yyu"
      },
      "source": [
        "To submit your lab for grading you must first download it to your compute as .py file. In the \"File\" menu select \"Download .py\". The resulting file can then be uploaded to http://www.math.byu.edu:30000 for grading."
      ]
    }
  ]
}