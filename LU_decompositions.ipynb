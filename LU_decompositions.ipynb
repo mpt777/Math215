{
  "nbformat": 4,
  "nbformat_minor": 0,
  "metadata": {
    "colab": {
      "name": "Copy of LU_decompositions.ipynb",
      "provenance": [],
      "collapsed_sections": [],
      "include_colab_link": true
    },
    "kernelspec": {
      "name": "python3",
      "display_name": "Python 3"
    }
  },
  "cells": [
    {
      "cell_type": "markdown",
      "metadata": {
        "id": "view-in-github",
        "colab_type": "text"
      },
      "source": [
        "<a href=\"https://colab.research.google.com/github/mpt777/Math215/blob/main/LU_decompositions.ipynb\" target=\"_parent\"><img src=\"https://colab.research.google.com/assets/colab-badge.svg\" alt=\"Open In Colab\"/></a>"
      ]
    },
    {
      "cell_type": "markdown",
      "metadata": {
        "id": "qEJhOZ51lG2W"
      },
      "source": [
        "#**Lab 5 - LU decompositions and Gaussian elimination**"
      ]
    },
    {
      "cell_type": "markdown",
      "metadata": {
        "id": "y0oQ0MWSlwfG"
      },
      "source": [
        "Enter your code in the spaces provided. Do not change any of the variable names or function names that are already provided for you. In places where we specify the name of the return value, make sure that your code produces the a value with the correct name."
      ]
    },
    {
      "cell_type": "code",
      "metadata": {
        "id": "UyLKhewcUu6m"
      },
      "source": [
        "# Do not edit this cell.\n",
        "\n",
        "LabID=\"Lab5\"\n",
        "\n",
        "try:\n",
        "  from graderHelp import ISGRADEPLOT\n",
        "except ImportError:\n",
        "  ISGRADEPLOT = True"
      ],
      "execution_count": null,
      "outputs": []
    },
    {
      "cell_type": "markdown",
      "metadata": {
        "id": "CGHZ14CWl0sS"
      },
      "source": [
        "**Enter your name, section number, and BYU NetID**"
      ]
    },
    {
      "cell_type": "code",
      "metadata": {
        "id": "knzMO488lOPx"
      },
      "source": [
        "# Enter your first and last names in between the quotation marks.\n",
        "\n",
        "first_name=\"Marshal\"\n",
        "\n",
        "last_name=\"Taylor\"\n",
        "\n",
        "# Enter your Math 215 section number in between the quotation marks. \n",
        "\n",
        "section_number=\"001\"  \n",
        "\n",
        "# Enter your BYU NetID in between the quotation marks.  NOT YOUR BYU ID NUMBER! \n",
        "\n",
        "BYUNetID=\"mpt777\" "
      ],
      "execution_count": null,
      "outputs": []
    },
    {
      "cell_type": "markdown",
      "metadata": {
        "id": "sXLH1s6F6et4"
      },
      "source": [
        "**Import NumPy**"
      ]
    },
    {
      "cell_type": "code",
      "metadata": {
        "id": "EjD80ENR6g6A"
      },
      "source": [
        "import numpy as np"
      ],
      "execution_count": 3,
      "outputs": []
    },
    {
      "cell_type": "markdown",
      "metadata": {
        "id": "8TbgwXGZmETs"
      },
      "source": [
        "**Problem 1**"
      ]
    },
    {
      "cell_type": "code",
      "metadata": {
        "id": "dzudpi4_l8-8"
      },
      "source": [
        "def augment(A,b): \n",
        "  # Put your code here. \n",
        "  augmented_matrix = np.column_stack((A,b))\n",
        "  return augmented_matrix # Put your return value here."
      ],
      "execution_count": 105,
      "outputs": []
    },
    {
      "cell_type": "markdown",
      "metadata": {
        "id": "5KJ4X0qgmW52"
      },
      "source": [
        "**Problem 2**"
      ]
    },
    {
      "cell_type": "code",
      "metadata": {
        "id": "cUMtfns0mWCc"
      },
      "source": [
        "def first_column_zeros(A):\n",
        "  B = np.copy(A)\n",
        "  for i in range(len(A)):\n",
        "    if (i != 0):\n",
        "      B[i, :] = A[i, :] - (A[0, :] * (A[i, 0] / A[0, 0]))\n",
        "  return B # Put your return value here."
      ],
      "execution_count": 106,
      "outputs": []
    },
    {
      "cell_type": "markdown",
      "metadata": {
        "id": "3gFdGK5_m_iw"
      },
      "source": [
        "**Problem 3**"
      ]
    },
    {
      "cell_type": "code",
      "metadata": {
        "id": "dEt45tv6m6l2"
      },
      "source": [
        "def row_echelon(A,b): \n",
        "  b = augment(A, b)\n",
        "  for i in range(len(b)):\n",
        "    b[i:, i:] = first_column_zeros(b[i:, i:])\n",
        "  return b # Put your return value here."
      ],
      "execution_count": 109,
      "outputs": []
    },
    {
      "cell_type": "markdown",
      "metadata": {
        "id": "GD3rR1rmngih"
      },
      "source": [
        "**Problem 4**"
      ]
    },
    {
      "cell_type": "code",
      "metadata": {
        "id": "Wun2LuScnf86"
      },
      "source": [
        "def LU_decomposition(A):\n",
        "  U=np.copy(A)\n",
        "  L=np.identity(len(A))\n",
        "\n",
        "  for j in range(0, np.shape(A)[0]):\n",
        "    for i in range(j+1, np.shape(A)[1]):\n",
        "      L[i, j] = (U[i, j] / U[j, j])\n",
        "      U[i, :] = U[i, :] - (L[i, j] * U[j, :])\n",
        "\n",
        "  return L,U # We've included the return values for you, though your function needs to define them correctly."
      ],
      "execution_count": null,
      "outputs": []
    },
    {
      "cell_type": "markdown",
      "metadata": {
        "id": "LhCNjC6CoLgr"
      },
      "source": [
        "**Problem 5**"
      ]
    },
    {
      "cell_type": "code",
      "metadata": {
        "id": "z8cXXktXfGKi"
      },
      "source": [
        "def forward_substitution(L,b): # Accepts a lower triangular square matrix L and a vector b, solves Ly=b for y.\n",
        "  y = np.zeros(len(b))\n",
        "\n",
        "  for i in range(len(b)):\n",
        "    y[i] = (b[i] - (np.dot(y, L[i]))) / (L[i, i])\n",
        "\n",
        "  return y # Put your return value here."
      ],
      "execution_count": 97,
      "outputs": []
    },
    {
      "cell_type": "code",
      "metadata": {
        "colab": {
          "base_uri": "https://localhost:8080/"
        },
        "id": "ci44W2qpwbVH",
        "outputId": "d9d545e4-c851-47a3-c3df-887443eec766"
      },
      "source": [
        "U = np.array([[1,0,0], [3,1,0], [-1.1,0,4]])\r\n",
        "y = np.array([-2.1,1,1])\r\n",
        "\r\n",
        "forward_substitution(U,y)"
      ],
      "execution_count": 99,
      "outputs": [
        {
          "output_type": "execute_result",
          "data": {
            "text/plain": [
              "array([-2.1   ,  7.3   , -0.3275])"
            ]
          },
          "metadata": {
            "tags": []
          },
          "execution_count": 99
        }
      ]
    },
    {
      "cell_type": "markdown",
      "metadata": {
        "id": "iJL0cSqZiQjH"
      },
      "source": [
        "**Problem 6**"
      ]
    },
    {
      "cell_type": "code",
      "metadata": {
        "id": "6LJ5JLzfiQai"
      },
      "source": [
        "def back_substitution(U,y):    # Accepts an upper triangular square matrix U and a vector b, solves Ux=b for x.\n",
        "  x = np.zeros(len(y))\n",
        "\n",
        "  for i in range(len(y)-1, -1,-1):\n",
        "    x[i] = (y[i] - (np.dot(x, U[i, :]))) / (U[i, i])\n",
        "\n",
        "  return x # Put your return value here."
      ],
      "execution_count": 84,
      "outputs": []
    },
    {
      "cell_type": "markdown",
      "metadata": {
        "id": "2Tx7g_driMNS"
      },
      "source": [
        "**Problem 7**"
      ]
    },
    {
      "cell_type": "code",
      "metadata": {
        "id": "zbGvfgyFoB48"
      },
      "source": [
        "def LU_solver(A,b): \n",
        "  x=np.zeros(len(b))\n",
        "  L,U = LU_decomposition(A)\n",
        "  y = forward_substitution(L,b)\n",
        "  x = back_substitution(U,y) # Put your code here.\n",
        "  return x# Put your return value here."
      ],
      "execution_count": null,
      "outputs": []
    },
    {
      "cell_type": "markdown",
      "metadata": {
        "id": "CeTKOgpv7DWs"
      },
      "source": [
        "**STOP!  BEFORE YOU SUBMIT THIS LAB:**  Go to the \"Runtime\" menu at the top of this page, and select \"Restart and run all\".  If any of the cells produce error messages, you will either need to fix the error(s) or delete the code that is causing the error(s).  Then use \"Restart and run all\" again to see if there are any new errors.  Repeat this until no new error messages show up.   "
      ]
    },
    {
      "cell_type": "markdown",
      "metadata": {
        "id": "80COE0bF7JGu"
      },
      "source": [
        "**You are not ready to submit until you are able to select \"Restart and run all\" without any new error messages showing up.  Your code will not be able to be graded if there are any error messages.**"
      ]
    },
    {
      "cell_type": "markdown",
      "metadata": {
        "id": "aYrvCGC0msYu"
      },
      "source": [
        "To submit your lab for grading you must first download it to your compute as .py file. In the \"File\" menu select \"Download .py\". The resulting file can then be uploaded to http://www.math.byu.edu:30000 for grading."
      ]
    }
  ]
}